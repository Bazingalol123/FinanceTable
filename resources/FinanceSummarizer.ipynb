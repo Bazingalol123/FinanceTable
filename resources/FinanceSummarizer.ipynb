{
  "cells": [
    {
      "cell_type": "markdown",
      "metadata": {
        "id": "nNYCLgcSWomf"
      },
      "source": [
        "# Global Configurations"
      ]
    },
    {
      "cell_type": "code",
      "execution_count": null,
      "metadata": {
        "id": "ptq2GuOAWsK_"
      },
      "outputs": [],
      "source": [
        "import json\n",
        "import os.path\n",
        "from os import path, mkdir\n",
        "\n",
        "# Global config vars\n",
        "# Name of Google Drive folder to clone the files into\n",
        "folder = '/content/drive/MyDrive/finance_git'\n",
        "folder_contents = ''\n",
        "static = folder + folder_contents + '/static'\n",
        "template = folder + folder_contents + '/template'\n",
        "year = '2022'\n",
        "currency = '$'\n",
        "wks_name = 'my-wks'\n",
        "index_col = 'Month'\n",
        "year_total = 'Year Total'\n",
        "ngrok_auth_token = 'my ngrok auth token'\n",
        "repo_url = 'my repo url'\n",
        "\n",
        "def print_log(msg, should_log):\n",
        "  if should_log:\n",
        "    print(msg)\n",
        "\n",
        "def read_config(log=False):\n",
        "  global folder, folder_contents, static, template, year, currency, wks_name,\\\n",
        "    index_col, year_total, ngrok_auth_token, repo_url\n",
        "\n",
        "  # Create folder if it doesn't exist\n",
        "  if not path.exists(folder):\n",
        "    print_log(\"Creating folder...\", log)\n",
        "    os.mkdir(folder)\n",
        "\n",
        "  # Load configuration file\n",
        "  config_file = '/config.json'\n",
        "  config = {}\n",
        "  with open(folder + config_file) as f:\n",
        "    config = json.load(f)\n",
        "\n",
        "    # Relative path to the git repository (in google drive)\n",
        "    folder_contents = '/' + config['git_repo_name']\n",
        "\n",
        "    # Path to the static folder\n",
        "    static = folder + folder_contents + '/static'\n",
        "    print_log(f'static path: {static}', log)\n",
        "\n",
        "    # Path to the template folder\n",
        "    template = folder + folder_contents + '/template'\n",
        "    print_log(f'template path: {template}', log)\n",
        "\n",
        "    # Current year\n",
        "    year = config['current_year']\n",
        "    print_log(f'current year: {year}', log)\n",
        "\n",
        "    # Currency\n",
        "    currency = config['currency']\n",
        "    print_log(f'currency: {currency}', log)\n",
        "\n",
        "    # Name of expenses worksheet\n",
        "    wks_name = config['wks_name']\n",
        "\n",
        "    # Name of the index column\n",
        "    index_col = config['index_col']\n",
        "\n",
        "    # Name of the year total index\n",
        "    year_total = config['year_total_col_name']\n",
        "\n",
        "    # load ngrok auth token\n",
        "    ngrok_auth_token = config['ngrok_auth_token']\n",
        "\n",
        "    # load github repository url\n",
        "    repo_url = config['git_repo_url']\n",
        "\n",
        "    print_log(\"Loaded config file successfully!\\n\", True)\n",
        "\n",
        "read_config(log=True)"
      ]
    },
    {
      "cell_type": "markdown",
      "metadata": {
        "id": "z65RTkKh3bQh"
      },
      "source": [
        "# Installations"
      ]
    },
    {
      "cell_type": "markdown",
      "metadata": {
        "id": "cne87Qfix1Iz"
      },
      "source": [
        "## Colab installations"
      ]
    },
    {
      "cell_type": "code",
      "execution_count": null,
      "metadata": {
        "id": "OlHdePar3HtL"
      },
      "outputs": [],
      "source": [
        "!pip install flask -q\n",
        "!pip install flask-ngrok -q\n",
        "!pip install pyngrok==4.1.1 -q\n",
        "!pip install plotly==5.13.0 -q\n",
        "!ngrok authtoken $ngrok_auth_token"
      ]
    },
    {
      "cell_type": "markdown",
      "metadata": {
        "id": "kZh4XzmtNP14"
      },
      "source": [
        "## Get files from git into Drive"
      ]
    },
    {
      "cell_type": "code",
      "execution_count": null,
      "metadata": {
        "id": "cXUHSo2YNncE"
      },
      "outputs": [],
      "source": [
        "from shutil import rmtree\n",
        "import os.path\n",
        "\n",
        "target = folder + folder_contents\n",
        "\n",
        "if path.exists(target):\n",
        "  rmtree(target)\n",
        "\n",
        "os.chdir(folder)\n",
        "\n",
        "# Clone the repository\n",
        "!git clone $repo_url --quiet\n",
        "\n",
        "# Clean things up\n",
        "rmtree(target + '/.git')\n",
        "rmtree(target + '/.idea')\n",
        "\n",
        "print(\"Cloned repository successfully!\")"
      ]
    },
    {
      "cell_type": "markdown",
      "metadata": {
        "id": "3ZHXxDDU9bSE"
      },
      "source": [
        "# Google stuff"
      ]
    },
    {
      "cell_type": "code",
      "execution_count": null,
      "metadata": {
        "id": "SJBAyM-09d1A"
      },
      "outputs": [],
      "source": [
        "from google.colab import auth\n",
        "import gspread\n",
        "from google.auth import default\n",
        "\n",
        "#autenticating to google\n",
        "auth.authenticate_user()\n",
        "creds, _ = default()\n",
        "gc = gspread.authorize(creds)"
      ]
    },
    {
      "cell_type": "markdown",
      "metadata": {
        "id": "_WjyniGoawXG"
      },
      "source": [
        "# Utility Functions"
      ]
    },
    {
      "cell_type": "code",
      "execution_count": null,
      "metadata": {
        "id": "zDs9sE0Bayhg"
      },
      "outputs": [],
      "source": [
        "def get_categories(df):\n",
        "  categories = {}\n",
        "  for index in df.index.values.tolist():\n",
        "    categories[index] = index\n",
        "  return categories\n",
        "\n",
        "def parse(df, start_index, num_cols=None, transpose=False):\n",
        "  global index_col\n",
        "  df.columns = df.iloc[start_index]\n",
        "  output = df.iloc[start_index + 1:start_index + 14]\n",
        "  if num_cols:\n",
        "    output = output.iloc[:, :num_cols]\n",
        "  else:\n",
        "    output = output.iloc[:, :-1]\n",
        "  output = output.set_index(index_col)\n",
        "  currency_regexp = f'[\\{currency},]'\n",
        "  output.iloc[0:13] = output.iloc[0:13].replace(currency_regexp, '', regex=True)\n",
        "  output = output.astype(float)\n",
        "  if transpose:\n",
        "    output = output.transpose()\n",
        "  return output\n",
        "\n",
        "def parse_expenses(df):\n",
        "  return parse(df, 1, transpose=True)\n",
        "\n",
        "def parse_incomes(df):\n",
        "  return parse(df, 17, num_cols=6, transpose=True)\n",
        "\n",
        "def get_plot_as_json(fig):\n",
        "  return json.dumps(fig, cls=plotly.utils.PlotlyJSONEncoder)"
      ]
    },
    {
      "cell_type": "markdown",
      "metadata": {
        "id": "AMaRae5cYZ6q"
      },
      "source": [
        "# Load spreadsheet into Pandas DF"
      ]
    },
    {
      "cell_type": "code",
      "execution_count": null,
      "metadata": {
        "id": "Q4FFq9jECzfw"
      },
      "outputs": [],
      "source": [
        "import pandas as pd\n",
        "from gspread_dataframe import get_as_dataframe\n",
        "\n",
        "#defining my worksheet\n",
        "worksheet = gc.open(f'Finance {year}').worksheet(wks_name)\n",
        "\n",
        "expenses = ''\n",
        "exp_cats = ''\n",
        "incomes = ''\n",
        "inc_cats = ''\n",
        "\n",
        "def load_spreadsheet():\n",
        "  global worksheet, expenses, exp_cats, incomes, inc_cats\n",
        "\n",
        "  #get_all_values gives a list of rows\n",
        "  rows = worksheet.get_all_values()\n",
        "\n",
        "  #Convert to a DataFrame\n",
        "  df = pd.DataFrame(rows)\n",
        "\n",
        "  expenses = parse_expenses(df)\n",
        "  exp_cats = get_categories(expenses)\n",
        "\n",
        "  incomes = parse_incomes(df)\n",
        "  inc_cats = get_categories(incomes)\n",
        "\n",
        "read_config(log=True)\n",
        "load_spreadsheet()"
      ]
    },
    {
      "cell_type": "markdown",
      "metadata": {
        "id": "7ZosmACaxfAb"
      },
      "source": [
        "# Plot Functions"
      ]
    },
    {
      "attachments": {},
      "cell_type": "markdown",
      "metadata": {},
      "source": [
        "If you wish to add plots, add a python (plotly) function which uses the data extracted in previous cells (you are more then welcome to use the following functions for reference)"
      ]
    },
    {
      "cell_type": "code",
      "execution_count": null,
      "metadata": {
        "id": "PSchkTBxxmJw"
      },
      "outputs": [],
      "source": [
        "import plotly.express as px\n",
        "import plotly.graph_objects as go\n",
        "\n",
        "custom_template = {\n",
        "    \"layout\": go.Layout(\n",
        "        legend={\n",
        "            \"font\": {\n",
        "              \"family\": \"Nunito\",\n",
        "              \"size\": 16,\n",
        "              \"color\": \"#707070\",\n",
        "            }\n",
        "        },\n",
        "        title={\n",
        "            \"font\": {\n",
        "                \"size\": 28,\n",
        "                \"color\": \"#1f1f1f\"\n",
        "            },\n",
        "        },\n",
        "        plot_bgcolor=\"#ffffff\",\n",
        "        paper_bgcolor=\"#ffffff\",\n",
        "        colorway=px.colors.qualitative.G10,\n",
        "    )\n",
        "}\n",
        "\n",
        "def expenses_per_category_pie(month=None):\n",
        "  fig = px.pie(expenses, \n",
        "               values=month if month else year_total, \n",
        "               names=exp_cats,\n",
        "               title='Expenses Per Category (Pie)', \n",
        "               template=custom_template)\n",
        "  return fig\n",
        "\n",
        "\n",
        "def expenses_per_category_bar():\n",
        "  data = expenses.transpose()[:-1].reset_index()\n",
        "  fig = px.bar(data, \n",
        "               x='Month', \n",
        "               y=data.columns.values, \n",
        "               title='Expenses Per Category (Bar)',\n",
        "               template=custom_template)\n",
        "  return fig\n",
        "\n",
        "\n",
        "def monthly_balance_bar():\n",
        "  year_total_exp = expenses.sum().reset_index()\n",
        "  year_total_exp = year_total_exp.rename(columns={0:'Expenses'})\n",
        "  year_total_exp = year_total_exp.iloc[:12]\n",
        "\n",
        "  year_total_inc = incomes.sum().reset_index()\n",
        "  year_total_inc = year_total_inc.rename(columns={0: 'Incomes', 'Month': 'trash'})\n",
        "  year_total_inc = year_total_inc.iloc[:12]\n",
        "\n",
        "  data = pd.concat([year_total_exp, year_total_inc], ignore_index=False, axis=1)\n",
        "  data = data.drop('trash', axis=1)\n",
        "  data['Balance'] = data.Incomes - data.Expenses\n",
        "\n",
        "  fig = px.bar(data, \n",
        "               x='Month', \n",
        "               y=['Expenses', 'Incomes'],\n",
        "               hover_name='Month',\n",
        "               template=custom_template,\n",
        "               title=\"Monthly Balance (Bar)\",\n",
        "               labels={\n",
        "                     \"Month\": \"Month\",\n",
        "                     \"value\": f\"Total ({currency})\",\n",
        "                     \"variable\": \"Type\"\n",
        "                  },\n",
        "               hover_data={\n",
        "                   'Balance': True,\n",
        "                   'variable': False,\n",
        "                   'Month': False,\n",
        "                   'value': True\n",
        "               },\n",
        "               color_discrete_map={\n",
        "                   'Expenses': 'lightcoral',\n",
        "                   'Incomes': 'lightgreen'\n",
        "               })\n",
        "  return fig\n",
        "\n",
        "def monthly_balance_line():\n",
        "  year_total_exp = expenses.sum().reset_index()\n",
        "  year_total_exp = year_total_exp.rename(columns={0:'Expenses'})\n",
        "  year_total_exp = year_total_exp.iloc[:12]\n",
        "\n",
        "  year_total_inc = incomes.sum().reset_index()\n",
        "  year_total_inc = year_total_inc.rename(columns={0: 'Incomes', 'Month': 'trash'})\n",
        "  year_total_inc = year_total_inc.iloc[:12]\n",
        "\n",
        "  data = pd.concat([year_total_exp, year_total_inc], ignore_index=False, axis=1)\n",
        "  data = data.drop('trash', axis=1)\n",
        "  data['Balance'] = data.Incomes - data.Expenses\n",
        "\n",
        "  fig = px.line(data, \n",
        "               x='Month', \n",
        "               y=['Expenses', 'Incomes'],\n",
        "                markers=True,\n",
        "               hover_name='Month',\n",
        "               template=custom_template,\n",
        "               title=\"Monthly Balance (Line)\",\n",
        "               labels={\n",
        "                     \"Month\": \"Month\",\n",
        "                     \"value\": f\"Total ({currency})\",\n",
        "                     \"variable\": \"Type\"\n",
        "                  },\n",
        "               hover_data={\n",
        "                   'Balance': True,\n",
        "                   'variable': False,\n",
        "                   'Month': False,\n",
        "                   'value': True\n",
        "               },\n",
        "               color_discrete_map={\n",
        "                   'Expenses': 'lightcoral',\n",
        "                   'Incomes': 'lightgreen'\n",
        "               })\n",
        "  fig.update_traces(line=dict(width=4), marker=dict(size=10))\n",
        "  return fig\n",
        "\n",
        "def expense_category_tracker():\n",
        "  data = expenses.transpose()[:-1].reset_index()\n",
        "  fig = px.line(data, \n",
        "                x='Month',\n",
        "                y=list(get_categories(expenses).values()),\n",
        "               markers=True,\n",
        "               template=custom_template,\n",
        "               title=\"Expense Tracker (Line)\",\n",
        "               labels={\n",
        "                     \"Month\": \"Month\",\n",
        "                     \"value\": f\"Total ({currency})\",\n",
        "                     \"variable\": \"Category\"\n",
        "                  },\n",
        "               color_discrete_map={\n",
        "                   'Expenses': 'lightcoral',\n",
        "                   'Incomes': 'lightgreen'\n",
        "               })\n",
        "  fig.update_traces(line=dict(width=4), marker=dict(size=10))\n",
        "  return fig"
      ]
    },
    {
      "cell_type": "markdown",
      "metadata": {
        "id": "efloX7Fo4WKP"
      },
      "source": [
        "# Application"
      ]
    },
    {
      "attachments": {},
      "cell_type": "markdown",
      "metadata": {},
      "source": [
        "If you wish to add a plot, add an endpoint in the following cell (similar to the existing endpoint). Make sure you use the correct function (which you should've created for your plot) and that you add a matching card in the index.html file"
      ]
    },
    {
      "cell_type": "code",
      "execution_count": null,
      "metadata": {
        "id": "-EkGKgbV4YW1"
      },
      "outputs": [],
      "source": [
        "from flask import Flask, render_template, request\n",
        "from flask_ngrok import run_with_ngrok\n",
        "import plotly\n",
        "\n",
        "app = Flask(__name__, \n",
        "            template_folder=template, \n",
        "            static_folder=static)\n",
        "\n",
        "@app.route('/')\n",
        "def home():\n",
        "  load_spreadsheet()\n",
        "  return render_template('index.html')\n",
        "  \n",
        "\n",
        "@app.route('/expenses_per_category_pie')\n",
        "def expenses_per_category_pie_page():\n",
        "  monthArg = request.args.get('month')\n",
        "  month = monthArg if monthArg is not None and monthArg != 'Year' else None\n",
        "  graphJSON = get_plot_as_json(expenses_per_category_pie(month))\n",
        "  return render_template('plot.html', \n",
        "                         graphJSON=graphJSON,\n",
        "                         plotname='Expenses per Category (Pie)',\n",
        "                         selectedMonth = month,\n",
        "                         monthList=['Year', 'January', 'February', 'March', 'April', 'May', 'June', 'July', 'August', 'September', 'October', 'November', 'December'])\n",
        "  \n",
        "@app.route('/expenses_per_category_bar')\n",
        "def expenses_per_category_bar_page():\n",
        "  graphJSON = get_plot_as_json(expenses_per_category_bar())\n",
        "  return render_template('plot.html', \n",
        "                         graphJSON=graphJSON,\n",
        "                         plotname='Expenses per Category (Bar)')\n",
        "\n",
        "@app.route('/monthly_balance_bar')\n",
        "def monthly_balance_bar_page():\n",
        "  graphJSON = get_plot_as_json(monthly_balance_bar())\n",
        "  return render_template('plot.html', \n",
        "                         graphJSON=graphJSON,\n",
        "                         plotname='Monthly Balance (Bar)')\n",
        "  \n",
        "@app.route('/monthly_balance_line')\n",
        "def monthly_balance_line_page():\n",
        "  graphJSON = get_plot_as_json(monthly_balance_line())\n",
        "  return render_template('plot.html', \n",
        "                         graphJSON=graphJSON,\n",
        "                         plotname='Monthly Balance (Line)')\n",
        "\n",
        "@app.route('/expense_category_tracker')\n",
        "def expense_category_tracker_page():\n",
        "  graphJSON = get_plot_as_json(expense_category_tracker())\n",
        "  return render_template('plot.html', \n",
        "                         graphJSON=graphJSON,\n",
        "                         plotname='Expense Tracker (Line)')"
      ]
    },
    {
      "cell_type": "markdown",
      "metadata": {
        "id": "9sAdkGLs5CVg"
      },
      "source": [
        "# Run"
      ]
    },
    {
      "cell_type": "code",
      "execution_count": null,
      "metadata": {
        "id": "IgLMMDP_5Eso"
      },
      "outputs": [],
      "source": [
        "run_with_ngrok(app)\n",
        "app.run()"
      ]
    }
  ],
  "metadata": {
    "colab": {
      "collapsed_sections": [
        "kZh4XzmtNP14",
        "7ZosmACaxfAb",
        "efloX7Fo4WKP"
      ],
      "provenance": []
    },
    "kernelspec": {
      "display_name": ".venv",
      "language": "python",
      "name": "python3"
    },
    "language_info": {
      "codemirror_mode": {
        "name": "ipython",
        "version": 3
      },
      "file_extension": ".py",
      "mimetype": "text/x-python",
      "name": "python",
      "nbconvert_exporter": "python",
      "pygments_lexer": "ipython3",
      "version": "3.10.1"
    },
    "vscode": {
      "interpreter": {
        "hash": "61f4e92d606ab7ad8c5cf5bc2fffb47cdff25847e0c6499fe2022d786640832b"
      }
    }
  },
  "nbformat": 4,
  "nbformat_minor": 0
}
