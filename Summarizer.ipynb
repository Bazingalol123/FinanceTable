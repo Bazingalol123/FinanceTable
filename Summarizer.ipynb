{
 "cells": [
  {
   "attachments": {},
   "cell_type": "markdown",
   "metadata": {},
   "source": [
    "# Installations (Google Colab)"
   ]
  },
  {
   "cell_type": "code",
   "execution_count": 2,
   "metadata": {
    "vscode": {
     "languageId": "shellscript"
    }
   },
   "outputs": [
    {
     "ename": "SyntaxError",
     "evalue": "invalid syntax (198609639.py, line 1)",
     "output_type": "error",
     "traceback": [
      "\u001b[0;36m  Cell \u001b[0;32mIn[2], line 1\u001b[0;36m\u001b[0m\n\u001b[0;31m    pip install flask -q\u001b[0m\n\u001b[0m        ^\u001b[0m\n\u001b[0;31mSyntaxError\u001b[0m\u001b[0;31m:\u001b[0m invalid syntax\n"
     ]
    }
   ],
   "source": [
    "pip install flask -q\n",
    "pip install flask-ngrok -q\n",
    "pip install pyngrok==4.1.1 -q\n",
    "pip install plotly==5.13.0 -q\n",
    "ngrok authtoken <YOUR_NGROK_AUTH_TOKEN>"
   ]
  },
  {
   "attachments": {},
   "cell_type": "markdown",
   "metadata": {},
   "source": [
    "# Google stuff"
   ]
  },
  {
   "cell_type": "code",
   "execution_count": null,
   "metadata": {},
   "outputs": [],
   "source": [
    "from google.colab import auth\n",
    "import gspread\n",
    "from google.auth import default\n",
    "#autenticating to google\n",
    "auth.authenticate_user()\n",
    "creds, _ = default()\n",
    "gc = gspread.authorize(creds)"
   ]
  },
  {
   "attachments": {},
   "cell_type": "markdown",
   "metadata": {},
   "source": [
    "# Global Configurations"
   ]
  },
  {
   "cell_type": "code",
   "execution_count": null,
   "metadata": {},
   "outputs": [],
   "source": [
    "# A class to hold months names for easier use in code\n",
    "class Months:\n",
    "  def __init__(self):\n",
    "    self.january = 'January'\n",
    "    self.february = 'February'\n",
    "    self.march = 'March'\n",
    "    self.april = 'April'\n",
    "    self.may = 'May'\n",
    "    self.june = 'June'\n",
    "    self.july = 'July'\n",
    "    self.august = 'August'\n",
    "    self.september = 'September'\n",
    "    self.october = 'October'\n",
    "    self.november = 'November'\n",
    "    self.december = 'December'\n",
    "\n",
    "# Global variables\n",
    "YEAR = 2022\n",
    "WKS_NAME = 'Outcome-Income'\n",
    "INDEX_COL = 'Month'\n",
    "months = Months()"
   ]
  },
  {
   "attachments": {},
   "cell_type": "markdown",
   "metadata": {},
   "source": [
    "# Utility Functions"
   ]
  },
  {
   "cell_type": "code",
   "execution_count": null,
   "metadata": {},
   "outputs": [],
   "source": [
    "def parse(df, start_index, num_cols=None):\n",
    "  df.columns = df.iloc[start_index]\n",
    "  output = df.iloc[start_index + 1:start_index + 13]\n",
    "  if num_cols:\n",
    "    output = output.iloc[:, :num_cols]\n",
    "  output = output.set_index(INDEX_COL)\n",
    "  output.iloc[0:12] = output.iloc[0:12].replace('[\\₪,]', '', regex=True)\n",
    "  output = output.astype(float)\n",
    "  return output\n",
    "\n",
    "def parse_expenses(df):\n",
    "  return parse(df, 1)\n",
    "\n",
    "def parse_incomes(df):\n",
    "  return parse(df, 17, num_cols=6)"
   ]
  },
  {
   "attachments": {},
   "cell_type": "markdown",
   "metadata": {},
   "source": [
    "# Load spreadsheet into Pandas DF"
   ]
  },
  {
   "cell_type": "code",
   "execution_count": null,
   "metadata": {},
   "outputs": [],
   "source": [
    "import pandas as pd\n",
    "from gspread_dataframe import get_as_dataframe\n",
    "\n",
    "#defining my worksheet\n",
    "worksheet = gc.open(f'Finance {YEAR}').worksheet(WKS_NAME)\n",
    "\n",
    "#get_all_values gives a list of rows\n",
    "rows = worksheet.get_all_values()\n",
    "\n",
    "#Convert to a DataFrame\n",
    "df = pd.DataFrame(rows)\n",
    "\n",
    "expenses = parse_expenses(df)\n",
    "# print(expenses)\n",
    "\n",
    "incomes = parse_incomes(df)\n",
    "# print(incomes)"
   ]
  },
  {
   "attachments": {},
   "cell_type": "markdown",
   "metadata": {},
   "source": [
    "# Plot Functions"
   ]
  },
  {
   "cell_type": "code",
   "execution_count": null,
   "metadata": {},
   "outputs": [],
   "source": [
    "import plotly.express as px\n"
   ]
  },
  {
   "attachments": {},
   "cell_type": "markdown",
   "metadata": {},
   "source": [
    "# Flask Application"
   ]
  },
  {
   "cell_type": "code",
   "execution_count": null,
   "metadata": {},
   "outputs": [],
   "source": [
    "from flask import *\n",
    "from flask_ngrok import run_with_ngrok\n",
    "\n",
    "app = Flask(__name__)\n",
    "\n",
    "@app.route('/')\n",
    "def home():\n",
    "  return 'Hello World'"
   ]
  },
  {
   "attachments": {},
   "cell_type": "markdown",
   "metadata": {},
   "source": [
    "# Run"
   ]
  },
  {
   "cell_type": "code",
   "execution_count": null,
   "metadata": {},
   "outputs": [],
   "source": [
    "run_with_ngrok(app)\n",
    "app.run()"
   ]
  }
 ],
 "metadata": {
  "kernelspec": {
   "display_name": "Python 3",
   "language": "python",
   "name": "python3"
  },
  "language_info": {
   "codemirror_mode": {
    "name": "ipython",
    "version": 3
   },
   "file_extension": ".py",
   "mimetype": "text/x-python",
   "name": "python",
   "nbconvert_exporter": "python",
   "pygments_lexer": "ipython3",
   "version": "3.10.1"
  },
  "orig_nbformat": 4,
  "vscode": {
   "interpreter": {
    "hash": "aee8b7b246df8f9039afb4144a1f6fd8d2ca17a180786b69acc140d282b71a49"
   }
  }
 },
 "nbformat": 4,
 "nbformat_minor": 2
}
